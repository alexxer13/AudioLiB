{
  "cells": [
    {
      "cell_type": "markdown",
      "metadata": {
        "id": "view-in-github",
        "colab_type": "text"
      },
      "source": [
        "<a href=\"https://colab.research.google.com/github/alexxer13/AudioLiB/blob/main/fooocus_colab.ipynb\" target=\"_parent\"><img src=\"https://colab.research.google.com/assets/colab-badge.svg\" alt=\"Open In Colab\"/></a>"
      ]
    },
    {
      "cell_type": "code",
      "source": [
        "# Instala la dependencia específica necesaria para Fooocus\n",
        "!pip install pygit2==1.15.1"
      ],
      "metadata": {
        "id": "z_CzsWVJCU5J"
      },
      "execution_count": null,
      "outputs": []
    },
    {
      "cell_type": "code",
      "source": [
        "from google.colab import drive\n",
        "drive.mount('/content/drive')"
      ],
      "metadata": {
        "id": "B_46c1-WCWy3"
      },
      "execution_count": null,
      "outputs": []
    },
    {
      "cell_type": "code",
      "source": [
        "import os\n",
        "\n",
        "# Define la ruta del repositorio\n",
        "repo_path = \"/content/Fooocus\"\n",
        "\n",
        "# Comprueba si el repositorio ya existe\n",
        "if not os.path.exists(repo_path):\n",
        "    print(\"Clonando el repositorio de Fooocus...\")\n",
        "    # Clona el repositorio\n",
        "    !git clone https://github.com/lllyasviel/Fooocus.git\n",
        "else:\n",
        "    print(\"El repositorio de Fooocus ya existe. Omitiendo clonación.\")\n",
        "\n",
        "# Navega al directorio de Fooocus\n",
        "%cd {repo_path}"
      ],
      "metadata": {
        "id": "yeD4rPyCCd12"
      },
      "execution_count": null,
      "outputs": []
    },
    {
      "cell_type": "code",
      "source": [
        "import os\n",
        "\n",
        "# --- Define tus rutas en Google Drive ---\n",
        "# Puedes cambiar \"FooocusArchivos\" por el nombre que prefieras\n",
        "drive_base_path = \"/content/drive/MyDrive/FooocusArchivos\"\n",
        "drive_models_path = os.path.join(drive_base_path, \"models\")\n",
        "drive_loras_path = os.path.join(drive_base_path, \"loras\")\n",
        "\n",
        "# Crea estas carpetas en tu Google Drive si aún no existen\n",
        "!mkdir -p \"{drive_models_path}\"\n",
        "!mkdir -p \"{drive_loras_path}\"\n",
        "\n",
        "# --- Define las rutas de destino dentro de Fooocus ---\n",
        "# Fooocus espera encontrar los modelos y LoRAs aquí:\n",
        "fooocus_models_target = \"/content/Fooocus/models/checkpoints\"\n",
        "fooocus_loras_target = \"/content/Fooocus/models/loras\"\n",
        "\n",
        "# --- Crear los enlaces simbólicos ---\n",
        "# Borra las carpetas originales de Fooocus (si existen) para reemplazarlas con los enlaces\n",
        "!rm -rf \"{fooocus_models_target}\"\n",
        "!rm -rf \"{fooocus_loras_target}\"\n",
        "\n",
        "# Crea los enlaces simbólicos\n",
        "!ln -s \"{drive_models_path}\" \"{fooocus_models_target}\"\n",
        "!ln -s \"{drive_loras_path}\" \"{fooocus_loras_target}\"\n",
        "\n",
        "print(f\"Enlace creado para Modelos: Tus archivos de '{drive_models_path}' se usarán en Fooocus.\")\n",
        "print(f\"Enlace creado para LoRAs: Tus archivos de '{drive_loras_path}' se usarán en Fooocus.\")"
      ],
      "metadata": {
        "id": "hjaBoYxnCjQO"
      },
      "execution_count": null,
      "outputs": []
    },
    {
      "cell_type": "code",
      "source": [
        "import json\n",
        "\n",
        "# Ruta al archivo de configuración de modificaciones\n",
        "config_file = \"/content/Fooocus/config_modification.json\"\n",
        "\n",
        "# Configuración deseada\n",
        "config_data = {\n",
        "    \"default_advanced_checkbox\": True  # Marca la casilla \"Advanced\" por defecto\n",
        "}\n",
        "\n",
        "# Escribe la configuración en el archivo JSON\n",
        "with open(config_file, \"w\") as f:\n",
        "    json.dump(config_data, f, indent=4)\n",
        "\n",
        "print(f\"Archivo de configuración '{config_file}' creado/actualizado.\")\n",
        "print(\"La pestaña 'Advanced' se activará por defecto al iniciar.\")"
      ],
      "metadata": {
        "id": "vpO_3NifC65A"
      },
      "execution_count": null,
      "outputs": []
    },
    {
      "cell_type": "code",
      "source": [
        "# Establece el tema de Gradio en oscuro y lanza Fooocus\n",
        "!GRADIO_THEME=dark python entry_with_update.py --share --always-high-vram"
      ],
      "metadata": {
        "id": "uC71Ddg2DEuZ"
      },
      "execution_count": null,
      "outputs": []
    }
  ],
  "metadata": {
    "accelerator": "GPU",
    "colab": {
      "gpuType": "T4",
      "provenance": [],
      "include_colab_link": true
    },
    "kernelspec": {
      "display_name": "Python 3",
      "name": "python3"
    },
    "language_info": {
      "name": "python"
    }
  },
  "nbformat": 4,
  "nbformat_minor": 0
}